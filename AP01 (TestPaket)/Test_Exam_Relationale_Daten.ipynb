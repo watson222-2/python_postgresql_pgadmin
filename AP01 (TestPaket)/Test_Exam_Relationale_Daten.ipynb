{
 "cells": [
  {
   "cell_type": "markdown",
   "id": "4cf56921",
   "metadata": {},
   "source": [
    "# Test Exam: Management & Nutzung Relationale Daten"
   ]
  },
  {
   "cell_type": "markdown",
   "id": "0f7fb22f",
   "metadata": {},
   "source": [
    "### Persönliche Angaben (bitte ergänzen)"
   ]
  },
  {
   "cell_type": "markdown",
   "id": "94d35a25",
   "metadata": {},
   "source": [
    "<table>\n",
    "  <tr>\n",
    "    <td>Vorname:</td>\n",
    "    <td></td>\n",
    "  </tr>\n",
    "  <tr>\n",
    "    <td>Nachname:</td>\n",
    "    <td></td>\n",
    "  </tr>\n",
    "  <tr>\n",
    "    <td>Immatrikulationsnummer:</td>\n",
    "    <td></td>\n",
    "  </tr>\n",
    "  <tr>\n",
    "    <td>Modul:</td>\n",
    "    <td>Data Science</td>\n",
    "  </tr>\n",
    "  <tr>\n",
    "    <td>Prüfungsdatum / Raum / Zeit:</td>\n",
    "    <td>07.10.2024 / Raum: SF O3.54 / 8:00 – 11:45</td>\n",
    "  </tr>\n",
    "  <tr>\n",
    "    <td>Hilfsmittel:</td>\n",
    "    <td>w.MA.XX.DS.24HS (Data Science)<br>Open Book, Eigener Computer, Internet-Zugang</td>\n",
    "  </tr>\n",
    "</table>"
   ]
  },
  {
   "cell_type": "markdown",
   "id": "61847f62",
   "metadata": {},
   "source": [
    "## Bewertungskriterien\n",
    "\n",
    "### <b style=\"color: gray;\">(max. erreichbare Punkte: 44)</b>\n",
    "\n",
    "<table>\n",
    "  <thead>\n",
    "    <tr>\n",
    "      <th>Kategorie</th>\n",
    "      <th>Beschreibung</th>\n",
    "      <th>Punkteverteilung</th>\n",
    "    </tr>\n",
    "  </thead>\n",
    "  <tbody>\n",
    "    <tr>\n",
    "      <td>Code nicht lauffähig oder Ergebnisse nicht sinnvoll</td>\n",
    "      <td>Der Code enthält Fehler, die verhindern, dass er ausgeführt werden kann (z.B. Syntaxfehler) oder es werden Ergebnisse ausgegeben, welche nicht zur Fragestellung passen.</td>\n",
    "      <td>0 Punkte</td>\n",
    "    </tr>\n",
    "    <tr>\n",
    "      <td>Code lauffähig, aber mit gravierenden Mängeln</td>\n",
    "      <td>Der Code läuft, aber die Ergebnisse sind aufgrund wesentlicher Fehler unvollständig (z.B. fehlende Joins, gravierende Fehler in SQL-Abfragen). Nur geringer Fortschritt erkennbar.</td>\n",
    "      <td>25% der max. erreichbaren Punkte</td>\n",
    "    </tr>\n",
    "    <tr>\n",
    "      <td>Code lauffähig, aber mit mittleren Mängeln</td>\n",
    "      <td>Der Code läuft und liefert teilweise korrekte Ergebnisse, aber es gibt grössere Fehler (z.B. fehlende Spalten, unvollständige SQL-Abfragen). Die Ergebnisse sind nachvollziehbar, aber unvollständig oder ungenau.</td>\n",
    "      <td>50% der max. erreichbaren Punkte</td>\n",
    "    </tr>\n",
    "    <tr>\n",
    "      <td>Code lauffähig, aber mit minimalen Mängeln</td>\n",
    "      <td>Der Code läuft und liefert ein weitgehend korrektes Ergebnis, aber kleinere Fehler (z.B. falsche oder fehlende Sortierung, Rundung von Werten falsch) beeinträchtigen die Vollständigkeit des Ergebnisses.</td>\n",
    "      <td>75% der max. erreichbaren Punkte</td>\n",
    "    </tr>\n",
    "    <tr>\n",
    "      <td>Code lauffähig und korrekt</td>\n",
    "      <td>Der Code läuft einwandfrei und liefert das korrekte Ergebnis ohne Mängel.</td>\n",
    "      <td>100% der max. erreichbaren Punkte</td>\n",
    "    </tr>\n",
    "  </tbody>\n",
    "</table>\n",
    "\n"
   ]
  },
  {
   "cell_type": "markdown",
   "id": "9b8df3dd",
   "metadata": {},
   "source": [
    "## Python Libraries und Settings"
   ]
  },
  {
   "cell_type": "code",
   "execution_count": null,
   "id": "b027d889",
   "metadata": {},
   "outputs": [],
   "source": [
    "# Libraries\n",
    "import os\n",
    "import sqlite3\n",
    "import pandas as pd\n",
    "from sqlalchemy import create_engine, text\n",
    "\n",
    "# Settings\n",
    "import warnings\n",
    "warnings.filterwarnings(\"ignore\")\n",
    "\n",
    "# Working directory\n",
    "print(os.getcwd())"
   ]
  },
  {
   "cell_type": "markdown",
   "id": "aac9011e",
   "metadata": {},
   "source": [
    "## <b>Vorbereitung (Hinweis: dieser Teil wird nicht bewertet)</b>"
   ]
  },
  {
   "cell_type": "markdown",
   "id": "2e253f40",
   "metadata": {},
   "source": [
    "#### <b>1.) Starten Sie eine GitHub Codespaces Instanz auf Basis Ihres Forks des folgenden GitHub Repositories:</b>\n",
    "\n",
    "##### GitHub-Repository: https://github.com/mario-gellrich-zhaw/python_postgresql_pgadmin\n"
   ]
  },
  {
   "cell_type": "markdown",
   "id": "a2442005",
   "metadata": {},
   "source": [
    "#### <b>2.) Erstellen und Testen Sie die Datenbankverbindung mit der 'postgres' Datenbank.</b>"
   ]
  },
  {
   "cell_type": "code",
   "execution_count": null,
   "id": "36ca64be",
   "metadata": {},
   "outputs": [],
   "source": [
    "# Set up für Datenbankverbindung\n",
    "user = \"pgadmin\"\n",
    "password = \"geheim\"\n",
    "host = \"localhost\"\n",
    "port = \"5432\"\n",
    "database = \"postgres\"\n",
    "\n",
    "# Erstellen der Connection URL\n",
    "db_connection_url = \"postgresql://\" + user + \":\" + password +\\\n",
    "                    \"@\" + host + \":\" + port + \"/\" + database\n",
    "\n",
    "# Erstellen SQLAlchemy Engine\n",
    "engine = create_engine(db_connection_url)\n",
    "\n",
    "# Test der Datenbankverbindung\n",
    "with engine.connect() as connection:\n",
    "    result = connection.execute(text('SELECT current_database()'))\n",
    "    print(result.fetchone())\n",
    "\n",
    "# Verbindung trennen\n",
    "engine.dispose()"
   ]
  },
  {
   "cell_type": "markdown",
   "id": "53f4b234",
   "metadata": {},
   "source": [
    "#### <b>3.) Lesen Sie die Tabellenblätter aus 'smartphone_dealer_data.xlsx' ein, und speichern Sie diese in separaten DataFrames.</b>"
   ]
  },
  {
   "cell_type": "code",
   "execution_count": null,
   "id": "ef32ffa2-1859-48af-a78c-0f1b5748fc98",
   "metadata": {},
   "outputs": [],
   "source": [
    "# Pfad zur .xlsx Datei\n",
    "path = 'workspace/smartphone_dealer_data.xlsx'\n",
    "\n",
    "# Einlesen der Daten aus Excel File\n",
    "df_phones = pd.read_excel(path, sheet_name='Phones')\n",
    "df_customers = pd.read_excel(path, sheet_name='Customers')\n",
    "df_sales = pd.read_excel(path, sheet_name='Sales')\n",
    "df_salespersons = pd.read_excel(path, sheet_name='SalesPersons')\n",
    "df_technicians = pd.read_excel(path, sheet_name='Technicians')\n",
    "df_servicerecords = pd.read_excel(path, sheet_name='ServiceRecords')\n",
    "\n",
    "# Anpassen der Spaltennamen zu 'lowercase'\n",
    "df_phones.columns = df_phones.columns.str.lower()\n",
    "df_customers.columns = df_customers.columns.str.lower()\n",
    "df_sales.columns = df_sales.columns.str.lower()\n",
    "df_salespersons.columns = df_salespersons.columns.str.lower()\n",
    "df_technicians.columns = df_technicians.columns.str.lower()\n",
    "df_servicerecords.columns = df_servicerecords.columns.str.lower()\n"
   ]
  },
  {
   "cell_type": "markdown",
   "id": "66164662",
   "metadata": {},
   "source": [
    "#### <b>4.) Schreiben Sie die erstellten DataFrames in separate Tabellen in Ihrer Datenbank.</b>"
   ]
  },
  {
   "cell_type": "code",
   "execution_count": 4,
   "id": "cfd07b2d-1b23-4c93-b3f9-ccc3dcc73c31",
   "metadata": {},
   "outputs": [],
   "source": [
    "# Engine für Datenbankverbindung erstellen\n",
    "engine = create_engine(db_connection_url)\n",
    "\n",
    "# Schreiben der DataFrames in die Datenbank\n",
    "df_phones.to_sql('phones', engine, if_exists='replace', index=False)\n",
    "df_customers.to_sql('customers', engine, if_exists='replace', index=False)\n",
    "df_sales.to_sql('sales', engine, if_exists='replace', index=False)\n",
    "df_salespersons.to_sql('salespersons', engine, if_exists='replace', index=False)\n",
    "df_technicians.to_sql('technicians', engine, if_exists='replace', index=False)\n",
    "df_servicerecords.to_sql('servicerecords', engine, if_exists='replace', index=False)\n",
    "\n",
    "# Datenbankverbindung trennen\n",
    "engine.dispose()"
   ]
  },
  {
   "cell_type": "markdown",
   "id": "4f6fa711",
   "metadata": {},
   "source": [
    "<div style=\"background-color: #F0EAD6;\">\n",
    "\n",
    "#### <b> Hinweis! \n",
    "\n",
    "#### Falls etwas mit Ihrer PostgreSQL Verbindung nicht funktionieren sollte, verwenden Sie für die folgenden Aufgaben die SQLite Datenbank 'smartphone_dealer_data.db'. Sie finden diese auf Moodle in der Woche 4 im Order 'AP01'. Schieben (per drag and drop) Sie dazu die SQLite-Datenbank von Ihrem lokalen PC in Ihre GitHub Codespaces Environment.</b>\n",
    "\n",
    "#### <b> Das folgende Python-Codebeispiel demonstriert den Verbindungsaufbau mit der SQLite Datenbank mit Hilfe von Python.</b>\n",
    "\n",
    "```python\n",
    "# Engine für Datenbankverbindung erstellen\n",
    "engine = create_engine('sqlite:///workspace/smartphone_dealer_data.db')\n",
    "\n",
    "# SQL Abfrage\n",
    "df_sub = pd.read_sql_query(\"\"\"SELECT *\n",
    "                              FROM phones;\"\"\",\n",
    "                          con=engine)\n",
    "\n",
    "# Schliessen der Datenbankverbindung\n",
    "engine.dispose()\n",
    "\n",
    "df_sub \n",
    "```\n",
    "</div>"
   ]
  },
  {
   "cell_type": "markdown",
   "id": "d42c5152",
   "metadata": {},
   "source": [
    "## <b>Aufgaben (Hinweis: Dieser Teil wird bewertet)</b>\n",
    "<b style=\"color:blue;\">Hinweise zu den folgenden Aufgaben:</b>\n",
    "<ul style=\"color:blue;\">\n",
    "  <li>Erstellen Sie je Aufgabe eine SQL Abfrage und integrieren Sie diese in Ihren Python Code.</li>\n",
    "  <li>Speichern Sie je Aufgabe die Ergebnistabelle in einem DataFrame und stellen Sie diesen ganz oder in Teilen (z.B. erste 5 Zeilen) dar.</li>\n",
    "</ul>"
   ]
  },
  {
   "cell_type": "markdown",
   "id": "6033f466",
   "metadata": {},
   "source": [
    "#### <b>Aufgabe (1): Listen Sie alle Kunden auf, welche mit Vornamen John oder Sophia heissen.</b>\n",
    "<b>Details zur Aufgabenstellung:</b>\n",
    "- Sie finden die benötigte Informationen in der Tabelle 'Customers'.\n",
    "\n",
    "<b style=\"color: gray;\">(max. erreichbare Punkte: 4)</b>"
   ]
  },
  {
   "cell_type": "code",
   "execution_count": null,
   "id": "fdfcb555",
   "metadata": {},
   "outputs": [],
   "source": [
    "# Engine für Datenbankverbindung erstellen\n",
    "\n",
    "\n",
    "# Abfrage erstellen und Ergebnis in einem DataFrame speichern\n",
    "\n",
    "\n",
    "# Datenbankverbindung trennen\n",
    "\n",
    "\n",
    "# Ergebnis anzeigen\n"
   ]
  },
  {
   "cell_type": "markdown",
   "id": "c31d4887",
   "metadata": {},
   "source": [
    "#### <b>Aufgabe (2): Selektieren Sie die Telefone von \"Samsung\", und geben Sie deren Preise als Ganzzahlen (INTEGER) zurück.</b>\n",
    "<b>Details zur Aufgabenstellung:</b>\n",
    "- Sie finden die benötigten Informationen in der Tabelle 'Phones'.\n",
    "- Die Ergebnistabelle muss die Spalten: 'PhoneID',  'Brand' und den Price als Ganzzahl (INTEGER) enthalten.\n",
    "- Ordnen Sie die Tabelle absteigend nach Price als Ganzzahl (INTEGER).\n",
    "- Limitieren Sie die Anzahl der mit der SQL Abfrage zurückgegebenen Phones auf 10.\n",
    "\n",
    "<b style=\"color: gray;\">(max. erreichbare Punkte: 4)</b>"
   ]
  },
  {
   "cell_type": "code",
   "execution_count": null,
   "id": "93aad8fd",
   "metadata": {},
   "outputs": [],
   "source": [
    "# Engine für Datenbankverbindung erstellen\n",
    "\n",
    "\n",
    "# Abfrage erstellen und Ergebnis in einem DataFrame speichern\n",
    "\n",
    "\n",
    "# Datenbankverbindung trennen\n",
    "\n",
    "\n",
    "# Ergebnis anzeigen\n",
    "\n"
   ]
  },
  {
   "cell_type": "markdown",
   "id": "acc3fec8",
   "metadata": {},
   "source": [
    "#### <b>Aufgabe (3): Welches sind alle Telefonmodelle, die zwischen 2021 und 2023 auf den Markt kamen, einen IMEI-Wert haben und mehr als 800 USD kosten?</b>\n",
    "<b>Details zur Aufgabenstellung:</b>\n",
    "- Sie finden die benötigten Informationen in der Tabelle 'Phones'.\n",
    "- Ordnen Sie die Ergebnisse absteigend nach Price.\n",
    "\n",
    "<b style=\"color: gray;\">(max. erreichbare Punkte: 4)</b>"
   ]
  },
  {
   "cell_type": "code",
   "execution_count": null,
   "id": "ed99968e",
   "metadata": {},
   "outputs": [],
   "source": [
    "# Engine für Datenbankverbindung erstellen\n",
    "\n",
    "\n",
    "# Abfrage erstellen und Ergebnis in einem DataFrame speichern\n",
    "\n",
    "\n",
    "# Datenbankverbindung trennen\n",
    "\n",
    "\n",
    "# Ergebnis anzeigen\n"
   ]
  },
  {
   "cell_type": "markdown",
   "id": "b3e73a64",
   "metadata": {},
   "source": [
    "#### <b>Aufgabe (4): Ermitteln Sie alle Verkäufe, die von der Verkäuferin \"Diana Morris\" durchgeführt wurden.</b>\n",
    "<b>Details zur Aufgabenstellung:</b>\n",
    "- Geben Sie Verkaufspreis, Datum und die Namen der Kunden aus.\n",
    "- Sie finden die benötigten Informationen in den Tabellen 'Sales', 'SalesPersons' und 'Customers'.\n",
    "\n",
    "<b style=\"color: gray;\">(max. erreichbare Punkte: 4)</b>"
   ]
  },
  {
   "cell_type": "code",
   "execution_count": null,
   "id": "2e0f4a38",
   "metadata": {},
   "outputs": [],
   "source": [
    "# Engine für Datenbankverbindung erstellen\n",
    "\n",
    "\n",
    "# Abfrage erstellen und Ergebnis in einem DataFrame speichern\n",
    "\n",
    "\n",
    "# Datenbankverbindung trennen\n",
    "\n",
    "\n",
    "# Ergebnis anzeigen\n"
   ]
  },
  {
   "cell_type": "markdown",
   "id": "9b9f6653",
   "metadata": {},
   "source": [
    "#### <b>Aufgabe (5): Ermitteln Sie die Namen der Kunden und die Modelle der Telefone, welche diese gekauft haben, aber nur die Verkäufe über 600 USD.</b>\n",
    "<b>Details zur Aufgabenstellung:</b>\n",
    "- Sie finden die benötigten Informationen in den Tabellen 'Sales', 'Customers' und 'Phones'.\n",
    "- Ordnen Sie die Tabelle absteigend nach SaleDate.\n",
    "\n",
    "<b style=\"color: gray;\">(max. erreichbare Punkte: 4)</b>"
   ]
  },
  {
   "cell_type": "code",
   "execution_count": null,
   "id": "7b872a93",
   "metadata": {},
   "outputs": [],
   "source": [
    "# Engine für Datenbankverbindung erstellen\n",
    "\n",
    "\n",
    "# Abfrage erstellen und Ergebnis in einem DataFrame speichern\n",
    "\n",
    "\n",
    "# Datenbankverbindung trennen\n",
    "\n",
    "\n",
    "# Ergebnis anzeigen\n"
   ]
  },
  {
   "cell_type": "markdown",
   "id": "2b80dc61",
   "metadata": {},
   "source": [
    "#### <b>Aufgabe (6): Ermitteln Sie den durchschnittlichen Verkaufspreis und die Anzahl der Verkäufe für jeden Verkäufer, aber nur für Verkäufer, die mehr als 10 Verkäufe getätigt haben.</b>\n",
    "<b>Details zur Aufgabenstellung:</b>\n",
    "- Sie finden die benötigten Informationen in den Tabellen 'SalesPersons' und 'Sales'.\n",
    "- Ordnen Sie die Tabelle absteigend nach der Anzahl der Verkäufe.\n",
    "\n",
    "<b style=\"color: gray;\">(max. erreichbare Punkte: 8)</b>"
   ]
  },
  {
   "cell_type": "code",
   "execution_count": null,
   "id": "077a187d-05be-4c30-a367-a4e1a19d4466",
   "metadata": {},
   "outputs": [],
   "source": [
    "# Engine für Datenbankverbindung erstellen\n",
    "\n",
    "\n",
    "# Abfrage erstellen und Ergebnis in einem DataFrame speichern\n",
    "\n",
    "\n",
    "# Datenbankverbindung trennen\n",
    "\n",
    "\n",
    "# Ergebnis anzeigen\n"
   ]
  },
  {
   "cell_type": "markdown",
   "id": "08bd20f4",
   "metadata": {},
   "source": [
    "#### <b>Aufgabe (7): Ermitteln Sie die Anzahl der Reparaturen, die von jedem Techniker durchgeführt wurden.</b>\n",
    "<b>Details zur Aufgabenstellung:</b>\n",
    "- Sie finden die benötigten Informationen in den Tabellen 'Technicians' und 'ServiceRecords'.\n",
    "- Geben Sie den Vornamen und Nachnamen des Technikers sowie die Anzahl der Reparaturen an.\n",
    "- Ordnen Sie die Ergebnistabelle absteigend nach Anzahl der Reparaturen.\n",
    "\n",
    "<b style=\"color: gray;\">(max. erreichbare Punkte: 8)</b>"
   ]
  },
  {
   "cell_type": "code",
   "execution_count": null,
   "id": "504ca399",
   "metadata": {},
   "outputs": [],
   "source": [
    "# Engine für Datenbankverbindung erstellen\n",
    "\n",
    "\n",
    "# Abfrage erstellen und Ergebnis in einem DataFrame speichern\n",
    "\n",
    "\n",
    "# Datenbankverbindung trennen\n",
    "\n",
    "\n",
    "# Ergebnis anzeigen\n"
   ]
  },
  {
   "cell_type": "markdown",
   "id": "f15dbd26",
   "metadata": {},
   "source": [
    "#### <b>Aufgabe (8): Ermitteln Sie die Anzahl der Verkäufe pro Verkäufer und den durchschnittlichen Verkaufspreis pro Verkäufer.</b>\n",
    "<b>Details zur Aufgabenstellung: </b>\n",
    "- Sie finden die benötigten Informationen in den Tabellen 'SalesPersons' und 'Sales'.\n",
    "- Verwenden Sie nur Verkäufe, deren Verkaufspreis über 500 USD liegt.\n",
    "- Runden Sie den durchschnittlichen Verkaufspreis auf zwei Nachkommastellen.\n",
    "- Sortieren Sie die Ergebnisse nach der Anzahl der Verkäufe und zeigen Sie nur die Top 5 Verkäufer an.\n",
    "\n",
    "<b style=\"color: gray;\">(max. erreichbare Punkte: 8)</b>"
   ]
  },
  {
   "cell_type": "code",
   "execution_count": null,
   "id": "f26ae981",
   "metadata": {},
   "outputs": [],
   "source": [
    "# Engine für Datenbankverbindung erstellen\n",
    "\n",
    "\n",
    "# Abfrage erstellen und Ergebnis in einem DataFrame speichern\n",
    "\n",
    "\n",
    "# Datenbankverbindung trennen\n",
    "\n",
    "\n",
    "# Ergebnis anzeigen\n"
   ]
  },
  {
   "attachments": {},
   "cell_type": "markdown",
   "id": "ff525b1e",
   "metadata": {},
   "source": [
    "### Jupyter notebook --footer info-- (please always provide this at the end of each notebook)"
   ]
  },
  {
   "cell_type": "code",
   "execution_count": null,
   "id": "e6cae5b2",
   "metadata": {},
   "outputs": [],
   "source": [
    "import os\n",
    "import platform\n",
    "import socket\n",
    "from platform import python_version\n",
    "from datetime import datetime\n",
    "\n",
    "print('-----------------------------------')\n",
    "print(os.name.upper())\n",
    "print(platform.system(), '|', platform.release())\n",
    "print('Datetime:', datetime.now().strftime(\"%Y-%m-%d %H:%M:%S\"))\n",
    "print('Python Version:', python_version())\n",
    "print('IP Address:', socket.gethostbyname(socket.gethostname()))\n",
    "print('-----------------------------------')"
   ]
  }
 ],
 "metadata": {
  "kernelspec": {
   "display_name": "Python 3",
   "language": "python",
   "name": "python3"
  },
  "language_info": {
   "codemirror_mode": {
    "name": "ipython",
    "version": 3
   },
   "file_extension": ".py",
   "mimetype": "text/x-python",
   "name": "python",
   "nbconvert_exporter": "python",
   "pygments_lexer": "ipython3",
   "version": "3.12.4"
  }
 },
 "nbformat": 4,
 "nbformat_minor": 5
}
